{
 "cells": [
  {
   "cell_type": "markdown",
   "id": "d800bc78-0d32-44de-ae98-85ac4b364c56",
   "metadata": {},
   "source": [
    "# Satellite Image Classification Project\n",
    "## Project Overview\n",
    "This script build and validate a classification model using satellite image data.\n",
    "## Introduction\n",
    "There are three different classification models applied:\n",
    "1. Random Forest\n",
    "2. Extra Tree\n",
    "3. Bagging\n",
    "\n",
    "Performance of each  model will be assesed visually by confusion matrix. Further preformance report is printed followed by Kohen Kappa Score values."
   ]
  },
  {
   "cell_type": "code",
   "execution_count": null,
   "id": "72d87d4b-dda0-497a-ba05-069437b0f830",
   "metadata": {},
   "outputs": [],
   "source": [
    "%matplotlib inline"
   ]
  },
  {
   "cell_type": "markdown",
   "id": "33a1236f-63b8-40aa-8794-08ab1c86c9e8",
   "metadata": {},
   "source": [
    "## Python modules in use\n",
    "To build and validate model performance some libraries were necessary. Version of libriaries working with this scirpt are included in *requirements.txt* [file](https://github.com/pciuh/satellite-image-classification/blob/main/requirements.txt)"
   ]
  },
  {
   "cell_type": "code",
   "execution_count": null,
   "id": "8d9aa44e-2281-4097-98bb-04aea0373183",
   "metadata": {},
   "outputs": [],
   "source": [
    "import numpy as np\n",
    "import pandas as pd\n",
    "import matplotlib.pyplot as plt\n",
    "import scipy.interpolate as sci\n",
    "import seaborn as sns\n",
    "\n",
    "from matplotlib import cm\n",
    "from sklearn.model_selection import train_test_split\n",
    "from sklearn.ensemble import RandomForestClassifier, ExtraTreesClassifier, BaggingClassifier\n",
    "from sklearn.datasets import make_classification\n",
    "from sklearn.tree import DecisionTreeClassifier\n",
    "from sklearn.metrics import classification_report, confusion_matrix, cohen_kappa_score"
   ]
  },
  {
   "cell_type": "code",
   "execution_count": 13,
   "id": "c9ea6f3c-afe7-4d1a-ad7d-4d1d52e836db",
   "metadata": {},
   "outputs": [],
   "source": [
    "########### Random Seed for Split Data\n",
    "SEED = 30082024\n",
    "\n",
    "iDir = 'input/'\n",
    "\n",
    "fnam = 'labels.csv'\n",
    "df = pd.read_csv(iDir + fnam,sep=',')\n",
    "lbl = df.label.drop_duplicates().to_numpy()"
   ]
  },
  {
   "cell_type": "code",
   "execution_count": 9,
   "id": "ab990a73-72cd-4829-941f-a423c7629d76",
   "metadata": {},
   "outputs": [
    {
     "name": "stdout",
     "output_type": "stream",
     "text": [
      "Total Size: (319, 8) (319,)\n",
      "Train Size: (287, 8) (287,)\n",
      " Test Size: (32, 8) (32,)\n"
     ]
    }
   ],
   "source": [
    "_,num = np.unique(df.label,return_counts=True)\n",
    "\n",
    "variables=['x','y','band4','band3','band2']\n",
    "variables=['x','y','band1','band2','band3','band4','band5','band6']\n",
    "\n",
    "X = df[variables].to_numpy()\n",
    "Y = []\n",
    "for i,l in enumerate(lbl):\n",
    "    for ni in range(num[i]):\n",
    "        Y=np.append(Y,i)\n",
    "\n",
    "TIT = {'RF' : 'Random Forest', 'ET' : 'Extra Tree', 'BA' : 'Bagging'}\n",
    "\n",
    "mvec = [ExtraTreesClassifier(),\n",
    "        RandomForestClassifier(),\n",
    "        BaggingClassifier()]\n",
    "\n",
    "X_train, X_test, Y_train, Y_test = train_test_split(X, Y, test_size=.1, random_state = SEED)\n",
    "\n",
    "print('Total Size:',X.shape,Y.shape)\n",
    "print('Train Size:',X_train.shape, Y_train.shape)\n",
    "print(' Test Size:',X_test.shape, Y_test.shape)"
   ]
  },
  {
   "cell_type": "code",
   "execution_count": 10,
   "id": "15c8423d-57d1-4b6b-98d3-4a2dc24e50e0",
   "metadata": {},
   "outputs": [],
   "source": [
    "pvec = []\n",
    "for v in mvec:\n",
    "    v.fit(X_train, Y_train)\n",
    "    pvec.append(v.predict(X_test))"
   ]
  },
  {
   "cell_type": "code",
   "execution_count": 11,
   "id": "549bfdc9-0710-4d61-9bc8-f4a7d5fb7339",
   "metadata": {},
   "outputs": [
    {
     "name": "stdout",
     "output_type": "stream",
     "text": [
      "\n",
      "Model Performance\n",
      "\n",
      "     Random Forest:\n",
      "              precision    recall  f1-score   support\n",
      "\n",
      "       road1       1.00      0.50      0.67         2\n",
      "       road2       0.75      1.00      0.86         3\n",
      "       grass       0.67      0.50      0.57         4\n",
      "       water       1.00      1.00      1.00         1\n",
      "       roof1       1.00      0.50      0.67         2\n",
      "       roof2       0.67      1.00      0.80         2\n",
      "       roof3       1.00      1.00      1.00         2\n",
      "        tree       0.71      0.83      0.77         6\n",
      "      shadow       0.67      0.57      0.62         7\n",
      "        soil       0.25      0.33      0.29         3\n",
      "\n",
      "    accuracy                           0.69        32\n",
      "   macro avg       0.77      0.72      0.72        32\n",
      "weighted avg       0.72      0.69      0.68        32\n",
      "\n",
      "Kappa Score: 0.6400449943757031\n",
      "\n",
      "        Extra Tree:\n",
      "              precision    recall  f1-score   support\n",
      "\n",
      "       road1       1.00      1.00      1.00         2\n",
      "       road2       1.00      1.00      1.00         3\n",
      "       grass       1.00      0.75      0.86         4\n",
      "       water       0.50      1.00      0.67         1\n",
      "       roof1       1.00      0.50      0.67         2\n",
      "       roof2       0.50      0.50      0.50         2\n",
      "       roof3       1.00      1.00      1.00         2\n",
      "        tree       0.86      1.00      0.92         6\n",
      "      shadow       0.75      0.43      0.55         7\n",
      "        soil       0.33      0.67      0.44         3\n",
      "\n",
      "    accuracy                           0.75        32\n",
      "   macro avg       0.79      0.78      0.76        32\n",
      "weighted avg       0.81      0.75      0.75        32\n",
      "\n",
      "Kappa Score: 0.7152391546162402\n",
      "\n",
      "           Bagging:\n",
      "              precision    recall  f1-score   support\n",
      "\n",
      "       road1       0.67      1.00      0.80         2\n",
      "       road2       0.60      1.00      0.75         3\n",
      "       grass       0.50      0.25      0.33         4\n",
      "       water       1.00      1.00      1.00         1\n",
      "       roof1       1.00      1.00      1.00         2\n",
      "       roof2       0.33      0.50      0.40         2\n",
      "       roof3       1.00      1.00      1.00         2\n",
      "        tree       0.83      0.83      0.83         6\n",
      "      shadow       0.83      0.71      0.77         7\n",
      "        soil       0.50      0.33      0.40         3\n",
      "\n",
      "    accuracy                           0.72        32\n",
      "   macro avg       0.73      0.76      0.73        32\n",
      "weighted avg       0.72      0.72      0.71        32\n",
      "\n",
      "Kappa Score: 0.6785714285714286\n"
     ]
    }
   ],
   "source": [
    "ofnam = 'class_report-%.8d.txt'%SEED\n",
    "of = open(ofnam,'w')\n",
    "of.write('            %10s%10s%10s\\n'%('Samples','Category','Outcome'))\n",
    "of.write('Total Size: %10.0f%10.0f%10.0f\\n'%(X.shape[0],X.shape[1],Y.shape[0]))\n",
    "of.write('Train Size: %10.0f%10.0f%10.0f\\n'%(X_train.shape[0],X_train.shape[1],Y_train.shape[0]))\n",
    "of.write(' Test Size: %10.0f%10.0f%10.0f\\n'%(X_test.shape[0],X_test.shape[1],Y_test.shape[0]))\n",
    "\n",
    "p_crf,p_cet,p_cba = pvec\n",
    "mNam = ['RF','ET','BA']\n",
    "\n",
    "of.write('\\n%36s\\n'%'Model Performace')\n",
    "print('\\nModel Performance')\n",
    "cfm = []\n",
    "for i,v in enumerate(pvec):\n",
    "    print('\\n%18s:'%TIT[mNam[i]])\n",
    "    print(classification_report(Y_test, v, target_names=lbl))\n",
    "    print('Kappa Score:',cohen_kappa_score(Y_test, v))\n",
    "\n",
    "    of.write('\\n%14s:\\n'%TIT[mNam[i]])\n",
    "    of.write(classification_report(Y_test, v, target_names=lbl))\n",
    "    of.write('\\nKappa Score:%12.3f\\n'%(cohen_kappa_score(Y_test,v))) \n",
    "\n",
    "    cfm.append(confusion_matrix(Y_test, v))\n",
    "of.close()"
   ]
  },
  {
   "cell_type": "markdown",
   "id": "4958ca8c-c483-481d-8c1b-0defc3aeb44c",
   "metadata": {},
   "source": [
    "## Data visualization"
   ]
  },
  {
   "cell_type": "code",
   "execution_count": null,
   "id": "6f98721c-bb95-43ca-89fd-ca886a4e01d7",
   "metadata": {},
   "outputs": [],
   "source": []
  }
 ],
 "metadata": {
  "kernelspec": {
   "display_name": "Python 3 (ipykernel)",
   "language": "python",
   "name": "python3"
  },
  "language_info": {
   "codemirror_mode": {
    "name": "ipython",
    "version": 3
   },
   "file_extension": ".py",
   "mimetype": "text/x-python",
   "name": "python",
   "nbconvert_exporter": "python",
   "pygments_lexer": "ipython3",
   "version": "3.12.5"
  }
 },
 "nbformat": 4,
 "nbformat_minor": 5
}
