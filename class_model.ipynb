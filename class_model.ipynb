{
 "cells": [
  {
   "cell_type": "markdown",
   "id": "d800bc78-0d32-44de-ae98-85ac4b364c56",
   "metadata": {},
   "source": [
    "# Satellite Image Classification Project\n",
    "## Project Overview\n",
    "This script build and validate a classification model using satellite image data.\n",
    "## Introduction\n",
    "There are three different classification models applied:\n",
    "1. Random Forest\n",
    "2. Extra Tree\n",
    "3. Bagging\n",
    "\n",
    "Performance of each  model will be assesed visually by confusion matrix. Further preformance report is printed followed by Kohen Kappa Score values.\n",
    "\n",
    "The analysis were carried out in the following steps:\n",
    "1. Data from file „labels.csv” was read\n",
    "2. Labels was numbered from 0 to 9 to create vector for classification\n",
    "3. Columns: *x*, *y*, *band1*, *band2*, *band3*, *band4*, *band5*, *band6* was used as samples to train and test each of the models; total size of samples and split to train / test data is reported in appendices\n",
    "4. Confusion matrices are calculated and presented in plots (see Figure 1÷3)\n",
    "5. Train samples was fit to each classification model and metrics such as precision, recall for ech category/label and average accuracy as well as macro and weighted average of all categories are reported in appendices\n",
    "6. Cohen kappa score was calculated from prediction and test data to asses accuracy for selection the best fitted classification model\n",
    "7. File „satellite_image.csv” including satellite image (coordinates and eight bands) was read and all columns were applied to prediction models\n",
    "8. Satellite image was plotted in new coordinate system with color brightness read form band4 (red), band3 (green) and band2 (blue) - origin of original coordinate system was set to 0,0 (see Figure 4)\n",
    "9. On the top of plotted satellite image the categories/labels as points was overlaid; color scheme was selected the same like for predicted land cover maps\n",
    "10. Each category was designated by color and predicted categories for each pixel were plotted as a land cover map (see Figures 5÷7)\n"
   ]
  },
  {
   "cell_type": "code",
   "execution_count": 1,
   "id": "72d87d4b-dda0-497a-ba05-069437b0f830",
   "metadata": {},
   "outputs": [],
   "source": [
    "%matplotlib inline"
   ]
  },
  {
   "cell_type": "markdown",
   "id": "33a1236f-63b8-40aa-8794-08ab1c86c9e8",
   "metadata": {},
   "source": [
    "## Python modules in use\n",
    "To build and validate model performance some libraries were necessary. Version of libriaries working with this scirpt are included in *requirements.txt* [file](https://github.com/pciuh/satellite-image-classification/blob/main/requirements.txt)"
   ]
  },
  {
   "cell_type": "code",
   "execution_count": 2,
   "id": "8d9aa44e-2281-4097-98bb-04aea0373183",
   "metadata": {},
   "outputs": [],
   "source": [
    "import numpy as np\n",
    "import pandas as pd\n",
    "import matplotlib.pyplot as plt\n",
    "import scipy.interpolate as sci\n",
    "import seaborn as sns\n",
    "\n",
    "from matplotlib import cm\n",
    "from sklearn.model_selection import train_test_split\n",
    "from sklearn.ensemble import RandomForestClassifier, ExtraTreesClassifier, BaggingClassifier\n",
    "from sklearn.datasets import make_classification\n",
    "from sklearn.tree import DecisionTreeClassifier\n",
    "from sklearn.metrics import classification_report, confusion_matrix, cohen_kappa_score"
   ]
  },
  {
   "cell_type": "markdown",
   "id": "8e7bd845-bcdc-49d4-9b31-bb4e0f5940ca",
   "metadata": {},
   "source": [
    "## Reading files for classification\n",
    "\n",
    "File *labels.csv* is read to pandas DataFrame object. File include *band* features numbered from *1* to *6*."
   ]
  },
  {
   "cell_type": "code",
   "execution_count": 3,
   "id": "2cd21f78-9150-4708-8101-200d5c9814b7",
   "metadata": {},
   "outputs": [
    {
     "name": "stdout",
     "output_type": "stream",
     "text": [
      "Labels: ['road1' 'road2' 'grass' 'water' 'roof1' 'roof2' 'roof3' 'tree' 'shadow'\n",
      " 'soil']\n"
     ]
    }
   ],
   "source": [
    "SEED = 30082024\n",
    "\n",
    "iDir = 'input/'\n",
    "\n",
    "fnam = 'labels.csv'\n",
    "df = pd.read_csv(iDir + fnam,sep=',')\n",
    "lbl = df.label.drop_duplicates().values\n",
    "print('Labels:',lbl)"
   ]
  },
  {
   "cell_type": "code",
   "execution_count": 4,
   "id": "52fc8acc-9b25-40d8-9eea-4b56d4454d86",
   "metadata": {},
   "outputs": [
    {
     "name": "stdout",
     "output_type": "stream",
     "text": [
      "Features: ['x' 'y' 'band1' 'band2' 'band3' 'band4' 'band5' 'band6']\n"
     ]
    }
   ],
   "source": [
    "_,num = np.unique(df.label,return_counts=True) ### Count number of labels\n",
    "variables = df.drop(['label','band7','band8'],axis=1).columns.values\n",
    "print('Features:',variables)"
   ]
  },
  {
   "cell_type": "markdown",
   "id": "84fdb469-f106-4ffc-ab02-3c42b497749b",
   "metadata": {},
   "source": [
    "All above variables are to be features of classification model and assigned to the matix *X*."
   ]
  },
  {
   "cell_type": "code",
   "execution_count": 5,
   "id": "cd06b27f-9cd5-49d2-b473-fc83ae7ee017",
   "metadata": {},
   "outputs": [],
   "source": [
    "X = df[variables].values"
   ]
  },
  {
   "cell_type": "markdown",
   "id": "d2ba8990-ab37-4d46-bae7-c74de808e541",
   "metadata": {},
   "source": [
    "The output vector *y* will be built on *lbl* variable from imported database. Below part of code assign integer numbers for each label."
   ]
  },
  {
   "cell_type": "code",
   "execution_count": 6,
   "id": "c84281e0-9d7d-4e7a-8d19-5ebdc52f4716",
   "metadata": {},
   "outputs": [],
   "source": [
    "y = []\n",
    "for i,l in enumerate(lbl):\n",
    "    for ni in range(num[i]):\n",
    "        y=np.append(y,i)"
   ]
  },
  {
   "cell_type": "code",
   "execution_count": 7,
   "id": "c8825ccd-95e1-423b-a4fc-dfc3cea9b88f",
   "metadata": {},
   "outputs": [],
   "source": [
    "TIT = {'RF' : 'Random Forest', 'ET' : 'Extra Tree', 'BA' : 'Bagging'}\n",
    "\n",
    "mvec = [ExtraTreesClassifier(),\n",
    "        RandomForestClassifier(),\n",
    "        BaggingClassifier()]\n",
    "\n",
    "X_train, X_test, y_train, y_test = train_test_split(X, y, test_size=.1, random_state = SEED)\n",
    "\n",
    "#print('Total Size:',X.shape,y.shape)\n",
    "#print('Train Size:',X_train.shape, y_train.shape)\n",
    "#print(' Test Size:',X_test.shape, y_test.shape)"
   ]
  },
  {
   "cell_type": "code",
   "execution_count": 8,
   "id": "15c8423d-57d1-4b6b-98d3-4a2dc24e50e0",
   "metadata": {},
   "outputs": [],
   "source": [
    "pvec = []\n",
    "for v in mvec:\n",
    "    v.fit(X_train, y_train)\n",
    "    pvec.append(v.predict(X_test))"
   ]
  },
  {
   "cell_type": "code",
   "execution_count": 13,
   "id": "549bfdc9-0710-4d61-9bc8-f4a7d5fb7339",
   "metadata": {},
   "outputs": [
    {
     "name": "stdout",
     "output_type": "stream",
     "text": [
      "\n",
      "Model Performance\n",
      "\n",
      "     Random Forest:\n",
      "              precision    recall  f1-score   support\n",
      "\n",
      "       road1       1.00      0.50      0.67         2\n",
      "       road2       0.50      1.00      0.67         3\n",
      "       grass       1.00      0.75      0.86         4\n",
      "       water       1.00      1.00      1.00         1\n",
      "       roof1       1.00      0.50      0.67         2\n",
      "       roof2       0.50      0.50      0.50         2\n",
      "       roof3       1.00      1.00      1.00         2\n",
      "        tree       0.86      1.00      0.92         6\n",
      "      shadow       0.80      0.57      0.67         7\n",
      "        soil       0.25      0.33      0.29         3\n",
      "\n",
      "    accuracy                           0.72        32\n",
      "   macro avg       0.79      0.72      0.72        32\n",
      "weighted avg       0.78      0.72      0.72        32\n",
      "\n",
      "Kappa Score: 0.6771300448430493\n",
      "\n",
      "        Extra Tree:\n",
      "              precision    recall  f1-score   support\n",
      "\n",
      "       road1       1.00      1.00      1.00         2\n",
      "       road2       1.00      1.00      1.00         3\n",
      "       grass       1.00      0.75      0.86         4\n",
      "       water       1.00      1.00      1.00         1\n",
      "       roof1       0.50      0.50      0.50         2\n",
      "       roof2       0.67      1.00      0.80         2\n",
      "       roof3       1.00      1.00      1.00         2\n",
      "        tree       0.86      1.00      0.92         6\n",
      "      shadow       1.00      0.43      0.60         7\n",
      "        soil       0.50      1.00      0.67         3\n",
      "\n",
      "    accuracy                           0.81        32\n",
      "   macro avg       0.85      0.87      0.83        32\n",
      "weighted avg       0.87      0.81      0.81        32\n",
      "\n",
      "Kappa Score: 0.787375415282392\n",
      "\n",
      "           Bagging:\n",
      "              precision    recall  f1-score   support\n",
      "\n",
      "       road1       0.67      1.00      0.80         2\n",
      "       road2       0.50      1.00      0.67         3\n",
      "       grass       0.00      0.00      0.00         4\n",
      "       water       1.00      1.00      1.00         1\n",
      "       roof1       0.50      0.50      0.50         2\n",
      "       roof2       0.67      1.00      0.80         2\n",
      "       roof3       0.67      1.00      0.80         2\n",
      "        tree       0.83      0.83      0.83         6\n",
      "      shadow       0.80      0.57      0.67         7\n",
      "        soil       0.67      0.67      0.67         3\n",
      "\n",
      "    accuracy                           0.69        32\n",
      "   macro avg       0.63      0.76      0.67        32\n",
      "weighted avg       0.63      0.69      0.64        32\n",
      "\n",
      "Kappa Score: 0.64562569213732\n"
     ]
    },
    {
     "name": "stderr",
     "output_type": "stream",
     "text": [
      "/usr/local/lib/python3.12/site-packages/sklearn/metrics/_classification.py:1509: UndefinedMetricWarning: Precision is ill-defined and being set to 0.0 in labels with no predicted samples. Use `zero_division` parameter to control this behavior.\n",
      "  _warn_prf(average, modifier, f\"{metric.capitalize()} is\", len(result))\n",
      "/usr/local/lib/python3.12/site-packages/sklearn/metrics/_classification.py:1509: UndefinedMetricWarning: Precision is ill-defined and being set to 0.0 in labels with no predicted samples. Use `zero_division` parameter to control this behavior.\n",
      "  _warn_prf(average, modifier, f\"{metric.capitalize()} is\", len(result))\n",
      "/usr/local/lib/python3.12/site-packages/sklearn/metrics/_classification.py:1509: UndefinedMetricWarning: Precision is ill-defined and being set to 0.0 in labels with no predicted samples. Use `zero_division` parameter to control this behavior.\n",
      "  _warn_prf(average, modifier, f\"{metric.capitalize()} is\", len(result))\n",
      "/usr/local/lib/python3.12/site-packages/sklearn/metrics/_classification.py:1509: UndefinedMetricWarning: Precision is ill-defined and being set to 0.0 in labels with no predicted samples. Use `zero_division` parameter to control this behavior.\n",
      "  _warn_prf(average, modifier, f\"{metric.capitalize()} is\", len(result))\n",
      "/usr/local/lib/python3.12/site-packages/sklearn/metrics/_classification.py:1509: UndefinedMetricWarning: Precision is ill-defined and being set to 0.0 in labels with no predicted samples. Use `zero_division` parameter to control this behavior.\n",
      "  _warn_prf(average, modifier, f\"{metric.capitalize()} is\", len(result))\n",
      "/usr/local/lib/python3.12/site-packages/sklearn/metrics/_classification.py:1509: UndefinedMetricWarning: Precision is ill-defined and being set to 0.0 in labels with no predicted samples. Use `zero_division` parameter to control this behavior.\n",
      "  _warn_prf(average, modifier, f\"{metric.capitalize()} is\", len(result))\n"
     ]
    }
   ],
   "source": [
    "ofnam = 'class_report-%.8d.txt'%SEED\n",
    "of = open(ofnam,'w')\n",
    "of.write('            %10s%10s%10s\\n'%('Samples','Category','Outcome'))\n",
    "of.write('Total Size: %10.0f%10.0f%10.0f\\n'%(X.shape[0],X.shape[1],y.shape[0]))\n",
    "of.write('Train Size: %10.0f%10.0f%10.0f\\n'%(X_train.shape[0],X_train.shape[1],y_train.shape[0]))\n",
    "of.write(' Test Size: %10.0f%10.0f%10.0f\\n'%(X_test.shape[0],X_test.shape[1],y_test.shape[0]))\n",
    "\n",
    "p_crf,p_cet,p_cba = pvec\n",
    "mNam = ['RF','ET','BA']\n",
    "\n",
    "of.write('\\n%36s\\n'%'Model Performace')\n",
    "print('\\nModel Performance')\n",
    "cfm = []\n",
    "for i,v in enumerate(pvec):\n",
    "    print('\\n%18s:'%TIT[mNam[i]])\n",
    "    print(classification_report(y_test, v, target_names=lbl))\n",
    "    print('Kappa Score:',cohen_kappa_score(y_test, v))\n",
    "\n",
    "    of.write('\\n%14s:\\n'%TIT[mNam[i]])\n",
    "    of.write(classification_report(y_test, v, target_names=lbl))\n",
    "    of.write('\\nKappa Score:%12.3f\\n'%(cohen_kappa_score(y_test,v))) \n",
    "\n",
    "    cfm.append(confusion_matrix(y_test, v))\n",
    "of.close()"
   ]
  },
  {
   "cell_type": "markdown",
   "id": "4958ca8c-c483-481d-8c1b-0defc3aeb44c",
   "metadata": {},
   "source": [
    "## Data visualization"
   ]
  },
  {
   "cell_type": "code",
   "execution_count": null,
   "id": "6f98721c-bb95-43ca-89fd-ca886a4e01d7",
   "metadata": {},
   "outputs": [],
   "source": []
  }
 ],
 "metadata": {
  "kernelspec": {
   "display_name": "Python 3 (ipykernel)",
   "language": "python",
   "name": "python3"
  },
  "language_info": {
   "codemirror_mode": {
    "name": "ipython",
    "version": 3
   },
   "file_extension": ".py",
   "mimetype": "text/x-python",
   "name": "python",
   "nbconvert_exporter": "python",
   "pygments_lexer": "ipython3",
   "version": "3.12.5"
  }
 },
 "nbformat": 4,
 "nbformat_minor": 5
}
