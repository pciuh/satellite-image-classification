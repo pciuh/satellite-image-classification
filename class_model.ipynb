{
 "cells": [
  {
   "cell_type": "markdown",
   "id": "d800bc78-0d32-44de-ae98-85ac4b364c56",
   "metadata": {},
   "source": [
    "# Satellite Image Classification Project\n",
    "## Project Overview\n",
    "This script build and validate a classification model using satellite image data.\n",
    "## Introduction\n",
    "There are three different classification models applied:\n",
    "1. Random Forest\n",
    "2. Extra Tree\n",
    "3. Bagging\n",
    "\n",
    "Performance of each  model will be assesed visually by confusion matrix. Further preformance report is printed followed by Kohen Kappa Score values.\n",
    "## Approach\n",
    "The analysis were carried out in the following steps:\n",
    "1. Data from file „labels.csv” was read\n",
    "2. Labels was numbered from 0 to 9 to create vector for classification\n",
    "3. Columns: *x*, *y*, *band1*, *band2*, *band3*, *band4*, *band5*, *band6* was used as samples to train and test each of the models; total size of samples and split to train / test data is reported in appendices\n",
    "4. Confusion matrices are calculated and presented in plots (see Figure 1÷3)\n",
    "5. Train samples was fit to each classification model and metrics such as precision, recall for ech category/label and average accuracy as well as macro and weighted average of all categories are reported in appendices\n",
    "6. Cohen kappa score was calculated from prediction and test data to asses accuracy for selection the best fitted classification model\n",
    "7. File „satellite_image.csv” including satellite image (coordinates and eight bands) was read and all columns were applied to prediction models\n",
    "8. Satellite image was plotted in new coordinate system with color brightness read form band4 (red), band3 (green) and band2 (blue) - origin of original coordinate system was set to 0,0 (see Figure 4)\n",
    "9. On the top of plotted satellite image the categories/labels as points was overlaid; color scheme was selected the same like for predicted land cover maps\n",
    "10. Each category was designated by color and predicted categories for each pixel were plotted as a land cover map (see Figures 5÷7)\n"
   ]
  },
  {
   "cell_type": "code",
   "execution_count": 1,
   "id": "72d87d4b-dda0-497a-ba05-069437b0f830",
   "metadata": {},
   "outputs": [],
   "source": [
    "%matplotlib inline"
   ]
  },
  {
   "cell_type": "markdown",
   "id": "33a1236f-63b8-40aa-8794-08ab1c86c9e8",
   "metadata": {},
   "source": [
    "## Python modules in use\n",
    "To build and validate model performance some libraries were necessary. Version of libriaries working with this scirpt are included in *requirements.txt* [file](https://github.com/pciuh/satellite-image-classification/blob/main/requirements.txt)"
   ]
  },
  {
   "cell_type": "code",
   "execution_count": 2,
   "id": "a8643810-9872-45f4-bd36-ca5c1eba862d",
   "metadata": {},
   "outputs": [],
   "source": [
    "import numpy as np\n",
    "import pandas as pd\n",
    "import matplotlib.pyplot as plt\n",
    "import scipy.interpolate as sci\n",
    "import seaborn as sns\n",
    "\n",
    "from matplotlib.patches import Patch\n",
    "from sklearn.model_selection import train_test_split\n",
    "from sklearn.ensemble import RandomForestClassifier, ExtraTreesClassifier, BaggingClassifier\n",
    "from sklearn.metrics import classification_report, confusion_matrix, cohen_kappa_score"
   ]
  },
  {
   "cell_type": "markdown",
   "id": "54fede38-afb1-4df7-9db0-cc1c81271167",
   "metadata": {},
   "source": [
    "## Function for plotting a confusion matrix"
   ]
  },
  {
   "cell_type": "code",
   "execution_count": 3,
   "id": "a88742e7-572c-4c45-ab48-b9e8ecf9ff0c",
   "metadata": {},
   "outputs": [],
   "source": [
    "def ploconfmat(clf_cfm,lbl,TIT,SUF):\n",
    "    fig,ax = plt.subplots(1,figsize=(7,7))\n",
    "    gc = [\"{0:0.0f}\".format(x) for x in clf_cfm.flatten()]\n",
    "\n",
    "    gp = [\"{0:.1%}\".format(x) for x in\n",
    "                         clf_cfm.flatten()/np.sum(clf_cfm)]\n",
    "\n",
    "    labels = [f\"{v1}\\n{v2}\\n\" for v1, v2 in\n",
    "              zip(gc,gp)]\n",
    "\n",
    "    labels = np.asarray(labels).reshape(len(lbl),len(lbl))\n",
    "\n",
    "    ax = sns.heatmap(clf_cfm, annot=labels,fmt='',cmap='Blues',cbar_kws={\"shrink\": 0.75})\n",
    "    \n",
    "    ax.set_title('Confusion Matrix ('+TIT+')\\n\\n');\n",
    "    ax.set_xlabel('\\nPredicted Labels Category')\n",
    "    ax.set_ylabel('Actual Labels Category ');\n",
    "    ax.xaxis.set_ticklabels(lbl)\n",
    "    ax.yaxis.set_ticklabels(lbl)\n",
    "    fig.tight_layout()\n",
    "    fig.savefig('conf_mat-'+SUF+'.pdf',dpi=300)\n"
   ]
  },
  {
   "cell_type": "markdown",
   "id": "1e6d48ec-ffb3-47a4-bf2f-6693b7c6f432",
   "metadata": {},
   "source": [
    "## Function for plotting satellite image and features"
   ]
  },
  {
   "cell_type": "code",
   "execution_count": 4,
   "id": "1481faf1-ff64-4018-a7db-92dcc3f090d0",
   "metadata": {},
   "outputs": [],
   "source": [
    "def plosat(df,data,im_ext,marker,label,color):\n",
    "    ##### Variables description\n",
    "    #####\n",
    "    #####     df: features -> pandas DataFrame\n",
    "    #####   data: array of colors for imshow (403x449) per each pixel -> numpy array, array shape: nx_pix=403,ny_pix=449,n_col=3\n",
    "    ##### im_ext: tuple of image extent (xMin,xMax,yMin,yMax) -> tuple\n",
    "    ##### marker: individual marker definition -> list of strings\n",
    "    #####  label: individual label names -> list of labels\n",
    "\n",
    "    fig,ax = plt.subplots(1,figsize=(7,7))\n",
    "    \n",
    "    ax.set_title('Satellite Image with Features')\n",
    "    \n",
    "    ax.imshow(data,origin='lower',extent=im_ext)\n",
    "    \n",
    "    for i,l in enumerate(label):\n",
    "        xl,yl = (df.x[df.label==l]-xMin,df.y[df.label==l]-yMin)\n",
    "        ax.scatter(xl,yl,color=color[i],marker=marker[i],label=label[i],alpha=1.0)\n",
    "\n",
    "    ax.legend(loc='center left',bbox_to_anchor=(1.0, 0.5))\n",
    "    ax.axis('off')\n",
    "    ax.set_aspect(1)\n",
    "    fig.savefig('satellite-image.png',dpi=300, bbox_inches='tight')"
   ]
  },
  {
   "cell_type": "code",
   "execution_count": 5,
   "id": "16bd634b-b41b-4ce9-92eb-2643aae0ccd8",
   "metadata": {},
   "outputs": [],
   "source": [
    "def plopred(label,idx,coor,color,ModelName,SUF):\n",
    "\n",
    "    handles = [\n",
    "                Patch(facecolor=color, label=label) \n",
    "                for label, color in zip(label, color)\n",
    "                ]\n",
    "    \n",
    "    fig,ax = plt.subplots(1,figsize=(7,7))\n",
    "    ax.set_title('Model: '+ModelName)\n",
    "    \n",
    "    xr,yr = coor\n",
    "    for i,l in enumerate(lbl):\n",
    "        ax.scatter(xr[idx==i],yr[idx==i],color=color[i],marker='.',s=1,label=label[i])\n",
    "\n",
    "    ax.axis('off')\n",
    "    ax.set_aspect(1)\n",
    "    ax.legend(handles = handles, loc='center left',bbox_to_anchor=(1.0, 0.5))\n",
    "    fig.savefig('pred-'+SUF+'.png',dpi=300, bbox_inches='tight')\n",
    "\n"
   ]
  },
  {
   "cell_type": "markdown",
   "id": "8e7bd845-bcdc-49d4-9b31-bb4e0f5940ca",
   "metadata": {},
   "source": [
    "## Reading files for classification\n",
    "\n",
    "File *labels.csv* is read to pandas DataFrame object. File include *band* features numbered from *1* to *6*."
   ]
  },
  {
   "cell_type": "code",
   "execution_count": 6,
   "id": "2cd21f78-9150-4708-8101-200d5c9814b7",
   "metadata": {},
   "outputs": [
    {
     "name": "stdout",
     "output_type": "stream",
     "text": [
      "Labels: ['road1' 'road2' 'grass' 'water' 'roof1' 'roof2' 'roof3' 'tree' 'shadow'\n",
      " 'soil']\n"
     ]
    }
   ],
   "source": [
    "SEED = 30082024\n",
    "\n",
    "iDir = 'input/'\n",
    "\n",
    "fnam = 'labels.csv'\n",
    "df = pd.read_csv(iDir + fnam,sep=',')\n",
    "lbl = df.label.drop_duplicates().values\n",
    "print('Labels:',lbl)\n",
    "\n",
    "fnam = 'satellite_image.csv'\n",
    "dfs = pd.read_csv(iDir + fnam,sep=',')"
   ]
  },
  {
   "cell_type": "code",
   "execution_count": 7,
   "id": "52fc8acc-9b25-40d8-9eea-4b56d4454d86",
   "metadata": {},
   "outputs": [
    {
     "name": "stdout",
     "output_type": "stream",
     "text": [
      "Features: ['x' 'y' 'band1' 'band2' 'band3' 'band4' 'band5' 'band6']\n"
     ]
    }
   ],
   "source": [
    "_,num = np.unique(df.label,return_counts=True) ### Count number of labels\n",
    "variables = df.drop(['label','band7','band8'],axis=1).columns.values\n",
    "print('Features:',variables)"
   ]
  },
  {
   "cell_type": "markdown",
   "id": "84fdb469-f106-4ffc-ab02-3c42b497749b",
   "metadata": {},
   "source": [
    "All above variables are to be features of classification model and assigned to the matix *X*. Values for further prediction of identified features are assigned to matrix *X_feat*."
   ]
  },
  {
   "cell_type": "code",
   "execution_count": 8,
   "id": "cd06b27f-9cd5-49d2-b473-fc83ae7ee017",
   "metadata": {},
   "outputs": [],
   "source": [
    "X = df[variables].values\n",
    "X_feat = dfs[variables].values"
   ]
  },
  {
   "cell_type": "markdown",
   "id": "d2ba8990-ab37-4d46-bae7-c74de808e541",
   "metadata": {},
   "source": [
    "The output vector *y* will be built on *lbl* variable from imported database. Below part of code assign integer numbers for each label."
   ]
  },
  {
   "cell_type": "code",
   "execution_count": 9,
   "id": "c84281e0-9d7d-4e7a-8d19-5ebdc52f4716",
   "metadata": {},
   "outputs": [],
   "source": [
    "y = []\n",
    "for i,l in enumerate(lbl):\n",
    "    for ni in range(num[i]):\n",
    "        y=np.append(y,i)"
   ]
  },
  {
   "cell_type": "code",
   "execution_count": 10,
   "id": "c8825ccd-95e1-423b-a4fc-dfc3cea9b88f",
   "metadata": {},
   "outputs": [],
   "source": [
    "TIT = {'RF' : 'Random Forest', 'ET' : 'Extra Tree', 'BA' : 'Bagging'}\n",
    "\n",
    "mvec = [ExtraTreesClassifier(),\n",
    "        RandomForestClassifier(),\n",
    "        BaggingClassifier()]\n",
    "\n",
    "X_train, X_test, y_train, y_test = train_test_split(X, y, test_size=.1, random_state = SEED)\n",
    "#print('Total Size:',X.shape,y.shape)\n",
    "#print('Train Size:',X_train.shape, y_train.shape)\n",
    "#print(' Test Size:',X_test.shape, y_test.shape)"
   ]
  },
  {
   "cell_type": "code",
   "execution_count": null,
   "id": "15c8423d-57d1-4b6b-98d3-4a2dc24e50e0",
   "metadata": {},
   "outputs": [],
   "source": [
    "pvec,fvec = [],[]\n",
    "for v in mvec:\n",
    "    v.fit(X_train, y_train)\n",
    "    pvec.append(v.predict(X_test))\n",
    "    fvec.append(v.predict(X_feat))"
   ]
  },
  {
   "cell_type": "code",
   "execution_count": null,
   "id": "5280f4e5-b460-4389-882b-34d9be5bc649",
   "metadata": {},
   "outputs": [],
   "source": [
    "ofnam = 'class_report-%.8d.txt'%SEED\n",
    "of = open(ofnam,'w')\n",
    "of.write('            %10s%10s%10s\\n'%('Samples','Category','Outcome'))\n",
    "of.write('Total Size: %10.0f%10.0f%10.0f\\n'%(X.shape[0],X.shape[1],y.shape[0]))\n",
    "of.write('Train Size: %10.0f%10.0f%10.0f\\n'%(X_train.shape[0],X_train.shape[1],y_train.shape[0]))\n",
    "of.write(' Test Size: %10.0f%10.0f%10.0f\\n'%(X_test.shape[0],X_test.shape[1],y_test.shape[0]))\n",
    "\n",
    "p_crf,p_cet,p_cba = pvec\n",
    "mNam = ['RF','ET','BA']\n",
    "\n",
    "of.write('\\n%36s\\n'%'Model Performace')\n",
    "print('\\nModel Performance')"
   ]
  },
  {
   "cell_type": "markdown",
   "id": "02ea1a61-dfb1-4d33-9dc6-b6b9b02ea50b",
   "metadata": {},
   "source": [
    "## Performance analysis report and confusion matrix"
   ]
  },
  {
   "cell_type": "code",
   "execution_count": null,
   "id": "35232079-3e68-4d00-be06-824a1c94f033",
   "metadata": {},
   "outputs": [],
   "source": [
    "cfm = []\n",
    "for i,v in enumerate(pvec):\n",
    "    cks = cohen_kappa_score(y_test,v)\n",
    "    cre = classification_report(y_test, v, target_names=lbl,zero_division=0.0)\n",
    "    print('\\n%18s:'%TIT[mNam[i]])\n",
    "    print(cre)\n",
    "    #print('Kappa Score:',cks)\n",
    "\n",
    "    of.write('\\n%14s:\\n'%TIT[mNam[i]])\n",
    "    of.write(cre)\n",
    "    #of.write('\\nKappa Score:%12.3f\\n'%(cks)) \n",
    "\n",
    "    cfm.append(confusion_matrix(y_test, v))\n",
    "of.close()"
   ]
  },
  {
   "cell_type": "markdown",
   "id": "4958ca8c-c483-481d-8c1b-0defc3aeb44c",
   "metadata": {},
   "source": [
    "## Data visualization"
   ]
  },
  {
   "cell_type": "markdown",
   "id": "0d78caa2-eb8f-4707-8baf-9daa0e1c6b2d",
   "metadata": {},
   "source": [
    "### Plotting confusion matrix"
   ]
  },
  {
   "cell_type": "code",
   "execution_count": null,
   "id": "b002e006-2626-4732-9e3b-4e996a01ff67",
   "metadata": {},
   "outputs": [],
   "source": [
    "for i,c in enumerate(cfm):\n",
    "    ploconfmat(c,lbl,TIT[mNam[i]],mNam[i])"
   ]
  },
  {
   "cell_type": "markdown",
   "id": "f292835a-0cae-45c7-b729-e90fa21ba43f",
   "metadata": {},
   "source": [
    "### Plotting satelite image with identified features"
   ]
  },
  {
   "cell_type": "code",
   "execution_count": null,
   "id": "e8d24a52-64bc-4979-b469-25ce3727cbd1",
   "metadata": {},
   "outputs": [],
   "source": [
    "xMin = min(dfs.x)\n",
    "yMin = min(dfs.y)\n",
    "\n",
    "xr,yr = (dfs.x-xMin,dfs.y-yMin)\n",
    "\n",
    "rr = dfs.band4/max(dfs.band4)\n",
    "rg = dfs.band3/max(dfs.band3)\n",
    "rb = dfs.band2/max(dfs.band2)\n",
    "\n",
    "_,num = np.unique(yr.values,return_counts=True)\n",
    "Nx = num[0]\n",
    "Ny = int(xr.shape[0]/num[0])\n",
    "\n",
    "xg,yg = np.meshgrid(np.linspace(min(xr),max(xr),Nx),np.linspace(min(yr),max(yr),Ny))\n",
    "\n",
    "rrg = sci.griddata((xr,yr),rr,(xg,yg))\n",
    "rgg = sci.griddata((xr,yr),rg,(xg,yg))\n",
    "rbg = sci.griddata((xr,yr),rb,(xg,yg))\n",
    "\n",
    "data   = np.dstack((rrg,rgg,rbg))\n",
    "im_ext = (min(xr),max(xr),min(yr),max(yr))\n",
    "marker = ['.','o','X','d',10,6,'^','p','4','$///$']\n",
    "color  = np.array(\n",
    "       [[1.0,1.0,0.0,1.0],\n",
    "        [1.0,1.0,0.0,1.0],\n",
    "        [0.0,1.0,0.0,1.0],\n",
    "        [0.0,0.0,1.0,1.0],\n",
    "        [1.0,0.0,0.0,1.0],\n",
    "        [1.0,0.0,0.0,1.0],\n",
    "        [1.0,0.0,0.0,1.0],\n",
    "        [0.0,0.6,0.0,1.0],\n",
    "        [0.6,0.6,0.6,1.0],\n",
    "        [0.8,0.4,0.0,1.0]]) \n",
    "\n",
    "plosat(df,data,im_ext,marker,lbl,color)"
   ]
  },
  {
   "cell_type": "markdown",
   "id": "bc96fc15-4eae-4ac9-b6d6-0081fa1e2b30",
   "metadata": {},
   "source": [
    "### Ploting satellite image with predicted labels"
   ]
  },
  {
   "cell_type": "code",
   "execution_count": null,
   "id": "c6bce52f-c443-4dcf-8766-7f30ca9ef16f",
   "metadata": {},
   "outputs": [],
   "source": [
    "for i,v in enumerate(fvec):\n",
    "    plopred(lbl,v,(xr,yr),color,TIT[mNam[i]],mNam[i])"
   ]
  },
  {
   "cell_type": "code",
   "execution_count": null,
   "id": "2a4e36cc-6da2-46ad-acf7-3db5475ede01",
   "metadata": {},
   "outputs": [],
   "source": []
  }
 ],
 "metadata": {
  "kernelspec": {
   "display_name": "Python 3 (ipykernel)",
   "language": "python",
   "name": "python3"
  },
  "language_info": {
   "codemirror_mode": {
    "name": "ipython",
    "version": 3
   },
   "file_extension": ".py",
   "mimetype": "text/x-python",
   "name": "python",
   "nbconvert_exporter": "python",
   "pygments_lexer": "ipython3",
   "version": "3.12.5"
  }
 },
 "nbformat": 4,
 "nbformat_minor": 5
}
